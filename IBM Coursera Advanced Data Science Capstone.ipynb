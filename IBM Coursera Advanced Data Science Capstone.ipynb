{
 "cells": [
  {
   "cell_type": "markdown",
   "metadata": {
    "collapsed": true
   },
   "source": [
    "# IBM Coursera Advanced Data Science Capstone"
   ]
  },
  {
   "cell_type": "markdown",
   "metadata": {},
   "source": [
    "## Do Quang Anh"
   ]
  },
  {
   "cell_type": "markdown",
   "metadata": {},
   "source": [
    "### Building an artist recommender system"
   ]
  },
  {
   "cell_type": "markdown",
   "metadata": {},
   "source": [
    "A recommender system is a tool that helps predicting what a user may or may not like among a list of given items. In some sense, you can view this as an alternative to content search, as recommendation engines help users discover products or content that they may not come across otherwise. For example, Facebook suggests friends and pages to users. Youtube recommends videos which users may be interested in. Amazon suggests the products which users may need... Recommendation engines engage users to services, can be seen as a revenue optimization process, and in general help maintaining interest in a service.\n",
    "\n",
    "In this notebook, I demonstrate how to build a simple recommender system: we focus on music recommendations, and we use a simple algorithm to predict which items users might like, that is called ALS -- alternating least squares."
   ]
  },
  {
   "cell_type": "markdown",
   "metadata": {},
   "source": [
    "### Goals"
   ]
  },
  {
   "cell_type": "markdown",
   "metadata": {},
   "source": [
    "In this notebook, I expect to:"
   ]
  },
  {
   "cell_type": "markdown",
   "metadata": {},
   "source": [
    "   * Revisit (or learn) recommender algorithms\n",
    "   * Understand the idea of Matrix Factorization and the ALS algorithm (serial and parallel versions)\n",
    "   * Build a simple model for a real usecase: music recommender system\n",
    "   * Understand how to validate the results\n"
   ]
  },
  {
   "cell_type": "markdown",
   "metadata": {},
   "source": [
    "### Steps"
   ]
  },
  {
   "cell_type": "markdown",
   "metadata": {},
   "source": [
    "* Inspect the data using Spark SQL, and build some basic, but very valuable knowledge about the information we have at hand\n",
    "* Formally define what is a sensible algorithm to achieve our goal: given the \"history\" of user taste for music, recommend new music to discover. Essentialy, we want to build a statistical model of user preferences such that we can use it to \"predict\" which additional music the user could like\n",
    "* With our formal definition at hand, we will learn different ways to implement such an algorithm. Our goal here is to illustrate what are the difficulties to overcome when implementing a (parallel) algorithm\n",
    "* Finally, we will focus on an existing implementation, available in the Apache Spark MLLib, which we will use out of the box to build a reliable statistical mode"
   ]
  },
  {
   "cell_type": "markdown",
   "metadata": {},
   "source": [
    "## 1. Data"
   ]
  },
  {
   "cell_type": "markdown",
   "metadata": {},
   "source": [
    "Understanding data is one of the most important part when designing any machine learning algorithm. In this notebook, I will use a data set published by Audioscrobbler - a music recommendation system for last.fm. Audioscrobbler is also one of the first internet streaming radio sites, founded in 2002. It provided an open API for “scrobbling”, or recording listeners’ plays of artists’ songs. last.fm used this information to build a powerful music recommender engine."
   ]
  },
  {
   "cell_type": "markdown",
   "metadata": {},
   "source": [
    "### 1.1. Data schema"
   ]
  },
  {
   "cell_type": "markdown",
   "metadata": {},
   "source": [
    "Unlike a rating dataset which contains information about users' preference for products (one star, 3 stars, and so on), the datasets from Audioscrobbler only has information about events: specifically, it keeps track of how many times a user played songs of a given artist and the names of artists. That means it carries less information than a rating: in the literature, this is called explicit vs. implicit ratings."
   ]
  },
  {
   "cell_type": "markdown",
   "metadata": {},
   "source": [
    "The data we use in this Notebook is available in 3 files (these files are stored in our HDFS layer, in the directory /dataset/):"
   ]
  },
  {
   "cell_type": "markdown",
   "metadata": {},
   "source": [
    "\n",
    "* user_artist_data.txt: It contains about 140,000+ unique users, and 1.6 million unique artists. About 24.2 million users’ plays of artists’ are recorded, along with their count. It has 3 columns separated by spaces:\n",
    "\n",
    "| UserID        | ArtistID      | PlayCount  |\n",
    "| ------------- |:-------------:| ----------:|\n",
    "| ...           | ...           | ...        |\n",
    "\n",
    "\n"
   ]
  },
  {
   "cell_type": "markdown",
   "metadata": {},
   "source": [
    "* artist_data.txt : It prodives the names of each artist by their IDs. It has 2 columns separated by tab characters (\\t).\n",
    "\n",
    "| ArtistID      | Name      |\n",
    "| ------------- |--------- :|\n",
    "| ...           | ...       |"
   ]
  },
  {
   "cell_type": "markdown",
   "metadata": {},
   "source": [
    "* artist_alias.txt: Note that when plays are scrobbled, the client application submits the name of the artist being played. This name could be misspelled or nonstandard. For example, \"The Smiths\", \"Smiths, The\", and \"the smiths\" may appear as distinct artist IDs in the data set, even though they are plainly the same. artist_alias.txt maps artist IDs that are known misspellings or variants to the canonical ID of that artist. The data in this file has 2 columns separated by tab characters (\\t).\n",
    "\n",
    "| MisspelledArtistID      | StandardArtistID      |\n",
    "| ------------- |--------- :|\n",
    "| ...           | ...       |"
   ]
  },
  {
   "cell_type": "markdown",
   "metadata": {},
   "source": [
    "## 1.2. Data Exploration: simple descriptive statistics"
   ]
  },
  {
   "cell_type": "code",
   "execution_count": 1,
   "metadata": {},
   "outputs": [
    {
     "name": "stdout",
     "output_type": "stream",
     "text": [
      "Waiting for a Spark session to start...\n",
      "Spark Initialization Done! ApplicationId = app-20200617063510-0000\n",
      "KERNEL_ID = 77ee5c3f-c80a-47e2-9c1b-be9ff29c6421\n",
      "--2020-06-17 06:35:14--  http://www.iro.umontreal.ca/~lisa/datasets/profiledata_06-May-2005.tar.gz\n",
      "Resolving www.iro.umontreal.ca (www.iro.umontreal.ca)... 132.204.26.36\n",
      "Connecting to www.iro.umontreal.ca (www.iro.umontreal.ca)|132.204.26.36|:80... connected.\n",
      "HTTP request sent, awaiting response... 200 OK\n",
      "Length: 135880312 (130M) [application/x-gzip]\n",
      "Saving to: ‘profiledata_06-May-2005.tar.gz’\n",
      "\n",
      "100%[======================================>] 135,880,312 30.6MB/s   in 5.0s   \n",
      "\n",
      "2020-06-17 06:35:20 (25.9 MB/s) - ‘profiledata_06-May-2005.tar.gz’ saved [135880312/135880312]\n",
      "\n",
      "profiledata_06-May-2005/\n",
      "profiledata_06-May-2005/artist_data.txt\n",
      "profiledata_06-May-2005/README.txt\n",
      "profiledata_06-May-2005/user_artist_data.txt\n",
      "profiledata_06-May-2005/artist_alias.txt\n"
     ]
    }
   ],
   "source": [
    "# Downloading dataset\n",
    "!set -e\n",
    "\n",
    "!mkdir -p dataset\n",
    "!cd dataset\n",
    "!wget http://www.iro.umontreal.ca/~lisa/datasets/profiledata_06-May-2005.tar.gz\n",
    "!tar xvf profiledata_06-May-2005.tar.gz\n",
    "!mv profiledata_06-May-2005/* dataset/\n",
    "!rm -r profiledata_06-May-2005\n",
    "\n"
   ]
  },
  {
   "cell_type": "code",
   "execution_count": 2,
   "metadata": {},
   "outputs": [],
   "source": [
    "#cat dataset/user_artist_data.txt"
   ]
  },
  {
   "cell_type": "code",
   "execution_count": 3,
   "metadata": {},
   "outputs": [],
   "source": [
    "import os\n",
    "import sys\n",
    "import re\n",
    "import random\n",
    "from pyspark import SparkContext\n",
    "from pyspark.sql import SQLContext\n",
    "from pyspark.sql.types import *\n",
    "from pyspark.sql import Row\n",
    "from pyspark.sql.functions import *\n"
   ]
  },
  {
   "cell_type": "code",
   "execution_count": 4,
   "metadata": {},
   "outputs": [],
   "source": [
    "%matplotlib inline\n",
    "import matplotlib.pyplot as plt\n",
    "import pandas as pd\n",
    "import numpy as np\n",
    "from time import time\n"
   ]
  },
  {
   "cell_type": "code",
   "execution_count": 5,
   "metadata": {},
   "outputs": [],
   "source": [
    "sqlContext = SQLContext(sc)\n",
    "base = \"dataset/\""
   ]
  },
  {
   "cell_type": "code",
   "execution_count": 6,
   "metadata": {},
   "outputs": [],
   "source": [
    "userArtistDataSchema = StructType([ \\\n",
    "    StructField(\"userID\", LongType(), True), \\\n",
    "    StructField(\"artistID\", LongType(), True), \\\n",
    "    StructField(\"playCount\", IntegerType(), True)])\n"
   ]
  },
  {
   "cell_type": "code",
   "execution_count": 7,
   "metadata": {},
   "outputs": [],
   "source": [
    "userArtistDF = sqlContext.read \\\n",
    "    .format(\"com.databricks.spark.csv\") \\\n",
    "    .options(header='false',delimiter= ' ') \\\n",
    "    .load(base + \"user_artist_data.txt\", schema=userArtistDataSchema) \\\n",
    "    .cache()"
   ]
  },
  {
   "cell_type": "code",
   "execution_count": 8,
   "metadata": {},
   "outputs": [
    {
     "name": "stdout",
     "output_type": "stream",
     "text": [
      "+-------+--------+---------+\n",
      "| userID|artistID|playCount|\n",
      "+-------+--------+---------+\n",
      "|1000002|       1|       55|\n",
      "|1000002| 1000006|       33|\n",
      "|1000002| 1000007|        8|\n",
      "|1000002| 1000009|      144|\n",
      "|1000002| 1000010|      314|\n",
      "|1000002| 1000013|        8|\n",
      "|1000002| 1000014|       42|\n",
      "|1000002| 1000017|       69|\n",
      "|1000002| 1000024|      329|\n",
      "|1000002| 1000025|        1|\n",
      "|1000002| 1000028|       17|\n",
      "|1000002| 1000031|       47|\n",
      "|1000002| 1000033|       15|\n",
      "|1000002| 1000042|        1|\n",
      "|1000002| 1000045|        1|\n",
      "|1000002| 1000054|        2|\n",
      "|1000002| 1000055|       25|\n",
      "|1000002| 1000056|        4|\n",
      "|1000002| 1000059|        2|\n",
      "|1000002| 1000062|       71|\n",
      "+-------+--------+---------+\n",
      "only showing top 20 rows\n",
      "\n"
     ]
    }
   ],
   "source": [
    "userArtistDF.cache()\n",
    "\n",
    "userArtistDF.show()"
   ]
  },
  {
   "cell_type": "markdown",
   "metadata": {},
   "source": [
    "### Distinct user "
   ]
  },
  {
   "cell_type": "code",
   "execution_count": 9,
   "metadata": {},
   "outputs": [
    {
     "name": "stdout",
     "output_type": "stream",
     "text": [
      "Count row in database:  24296858\n",
      "Total number of distinct User:  148111\n"
     ]
    }
   ],
   "source": [
    "allusers = userArtistDF.count()\n",
    "print(\"Count row in database: \", allusers)\n",
    "uniqueUsers = userArtistDF.select('userID').distinct().count()\n",
    "print(\"Total number of distinct User: \", uniqueUsers)"
   ]
  },
  {
   "cell_type": "markdown",
   "metadata": {},
   "source": [
    "### Distinct  artists"
   ]
  },
  {
   "cell_type": "code",
   "execution_count": 10,
   "metadata": {},
   "outputs": [
    {
     "name": "stdout",
     "output_type": "stream",
     "text": [
      "Total number of distinct Artists:  1631028\n"
     ]
    }
   ],
   "source": [
    "uniqueArtists = userArtistDF.select('artistID').distinct().count()\n",
    "print(\"Total number of distinct Artists: \", uniqueArtists)"
   ]
  },
  {
   "cell_type": "markdown",
   "metadata": {},
   "source": [
    "### Maximum and minimum values of column userID ?"
   ]
  },
  {
   "cell_type": "code",
   "execution_count": 11,
   "metadata": {},
   "outputs": [
    {
     "name": "stdout",
     "output_type": "stream",
     "text": [
      "+------+--------+---------+\n",
      "|userID|artistID|playCount|\n",
      "+------+--------+---------+\n",
      "+------+--------+---------+\n",
      "\n",
      "+------+--------+---------+\n",
      "|userID|artistID|playCount|\n",
      "+------+--------+---------+\n",
      "+------+--------+---------+\n",
      "\n"
     ]
    }
   ],
   "source": [
    "#One limitation of Spark MLlib's ALS implementation - which we will use later - is that it requires IDs for users and items to be nonnegative 32-bit integers. \n",
    "#This means that IDs larger than Integer.MAX_VALUE, or 2147483647, can't be used. So we need to check whether this data set conforms to the strict requirements of our library.\n",
    "userArtistDF[(userArtistDF.userID.cast(\"int\") < 0)].show()\n",
    "userArtistDF[(userArtistDF.userID.cast(\"int\") > 2147483647)].show()\n",
    "\n",
    "\n",
    "\n"
   ]
  },
  {
   "cell_type": "code",
   "execution_count": 12,
   "metadata": {},
   "outputs": [
    {
     "name": "stdout",
     "output_type": "stream",
     "text": [
      "+-------+------------------+\n",
      "|summary|            userID|\n",
      "+-------+------------------+\n",
      "|  count|          24296858|\n",
      "|   mean|1947573.2653533637|\n",
      "| stddev|496000.55518200784|\n",
      "|    min|                90|\n",
      "|    max|           2443548|\n",
      "+-------+------------------+\n",
      "\n"
     ]
    }
   ],
   "source": [
    "userArtistDF.select(\"userID\").describe().show()"
   ]
  },
  {
   "cell_type": "markdown",
   "metadata": {},
   "source": [
    "### Maximum and minimum values of column Artist ?"
   ]
  },
  {
   "cell_type": "code",
   "execution_count": 13,
   "metadata": {},
   "outputs": [
    {
     "name": "stdout",
     "output_type": "stream",
     "text": [
      "Maximum value of artistID:  10794401\n",
      "Maximum value of artistID:  1\n",
      "+-------+------------------+\n",
      "|summary|          artistID|\n",
      "+-------+------------------+\n",
      "|  count|          24296858|\n",
      "|   mean|1718704.0937568964|\n",
      "| stddev|2539389.0924284607|\n",
      "|    min|                 1|\n",
      "|    max|          10794401|\n",
      "+-------+------------------+\n",
      "\n"
     ]
    }
   ],
   "source": [
    "max_ArtistID = userArtistDF.groupby().max('artistID').collect()[0].asDict()['max(artistID)']\n",
    "print('Maximum value of artistID: ',max_ArtistID)\n",
    "min_ArtistID = userArtistDF.groupby().min('artistID').collect()[0].asDict()['min(artistID)']\n",
    "print('Maximum value of artistID: ',min_ArtistID)\n",
    "\n",
    "userArtistDF.select('artistID').describe().show()\n"
   ]
  },
  {
   "cell_type": "markdown",
   "metadata": {},
   "source": [
    "Next, we might want to understand better user activity and artist popularity.\n",
    "\n",
    "Here is a list of simple descriptive queries that helps us reaching these purposes:"
   ]
  },
  {
   "cell_type": "markdown",
   "metadata": {},
   "source": [
    "* How many times each user has played a song? This is a good indicator of who are the most active users of our service. Note that a very active user with many play counts does not necessarily mean that the user is also \"curious\"! Indeed, she could have played the same song several times.\n",
    "* How many play counts for each artist? This is a good indicator of the artist popularity. Since we do not have time information associated to our data, we can only build a, e.g., top-10 ranking of the most popular artists in the dataset. Later in the notebook, we will learn that our dataset has a very \"loose\" definition about artists: very often artist IDs point to song titles as well. This means we have to be careful when establishing popular artists. Indeed, artists whose data is \"well formed\" will have the correct number of play counts associated to them. Instead, artists that appear mixed with song titles may see their play counts \"diluted\" across their songs.\n"
   ]
  },
  {
   "cell_type": "markdown",
   "metadata": {},
   "source": [
    "### How many times each user has played a song? Display 5 samples of the result."
   ]
  },
  {
   "cell_type": "code",
   "execution_count": 14,
   "metadata": {},
   "outputs": [
    {
     "name": "stdout",
     "output_type": "stream",
     "text": [
      "[Row(userID=1000061, sum(playCount)=244), Row(userID=1000070, sum(playCount)=20200), Row(userID=1000313, sum(playCount)=201), Row(userID=1000832, sum(playCount)=1064), Row(userID=1000905, sum(playCount)=214)]\n"
     ]
    }
   ],
   "source": [
    "userActivity = userArtistDF.groupby('userID').sum('playCount').collect()\n",
    "print(userActivity[0:5])"
   ]
  },
  {
   "cell_type": "markdown",
   "metadata": {},
   "source": [
    "Plot Cumulative distribution function(CDF) or ECDF of the number of play counts per User ID.\n",
    "   * Look at important percentiles (25%, median, 75%, tails such as >90%)\n",
    "   * Discuss about users: we will notice that for some users, there is very little interaction with the system, which means that maybe reccommending something to them is going to be more difficult than for other users who interact more with the system.\n",
    "   * Look at outliers and reasons about their impact on the reccommender algorithm\n",
    "\n"
   ]
  },
  {
   "cell_type": "code",
   "execution_count": 15,
   "metadata": {},
   "outputs": [
    {
     "name": "stdout",
     "output_type": "stream",
     "text": [
      "[     1      1      1 ... 393515 548427 674412]\n"
     ]
    },
    {
     "data": {
      "image/png": "[encoded data removed]",
      "text/plain": [
       "<Figure size 432x288 with 1 Axes>"
      ]
     },
     "metadata": {
      "needs_background": "light"
     },
     "output_type": "display_data"
    },
    {
     "name": "stdout",
     "output_type": "stream",
     "text": [
      "Total = 371638969\n",
      "Mean = 2509.1922206993404\n",
      "Min = 1\n",
      "Max = 674412\n",
      "Percentile 25% :204.0\n",
      "Percentile 50% :892.0\n",
      "Percentile 75% :2800.0\n",
      "Percentile 90% :6484.0\n",
      "Percentile 95% :10120.0\n",
      "Percentile 99% :21569.199999999953\n",
      "The percentage of user playing less than 10 times P(Y<=10) = 0.05228511049145573\n"
     ]
    }
   ],
   "source": [
    "pdf = pd.DataFrame(data = userActivity)\n",
    "Y=np.sort(pdf[1])\n",
    "yvals=np.arange(len(Y))/float(len(Y))\n",
    "print(Y)\n",
    "plt.semilogx(Y, yvals)\n",
    "plt.xlabel('Play Counts')\n",
    "plt.ylabel('ECDF')\n",
    "plt.grid(True,which=\"both\",ls=\"-\")\n",
    "plt.title('ECDF of number of play counts per User ID')\n",
    "plt.show()\n",
    "\n",
    "print('Total =', Y.sum())\n",
    "print('Mean =', Y.mean())\n",
    "print('Min =', Y.min())\n",
    "print('Max =', Y.max())\n",
    "\n",
    "print('Percentile 25% :'+str(np.percentile(Y,25)))\n",
    "print('Percentile 50% :'+str(np.percentile(Y,50)))\n",
    "print('Percentile 75% :'+str(np.percentile(Y,75)))\n",
    "print('Percentile 90% :'+str(np.percentile(Y,90)))\n",
    "print('Percentile 95% :'+str(np.percentile(Y,95)))\n",
    "print('Percentile 99% :'+str(np.percentile(Y,99)))\n",
    "\n",
    "\n",
    "# look at the percentile has playCount less than 10\n",
    "print('The percentage of user playing less than 10 times P(Y<=10) =',len(Y[Y<=10])/len(Y))\n"
   ]
  },
  {
   "cell_type": "markdown",
   "metadata": {},
   "source": [
    "### We have total 371638969 play counts.\n",
    "**In average, every user plays 2509 times.**\n",
    "\n",
    "**25% of the users have the play counts less than or equal to (<=) 204 times.**\n",
    "\n",
    "**50% of the users have the play counts less than or equal to (<=) 892times.**\n",
    "\n",
    "**75% of the users have the play counts less than or equal to (<=) 2800 times.**\n",
    "\n",
    "**95% of the users have the play counts less than or equal to (<=) 10120 times.**\n",
    "\n",
    "**99% of the users have the play counts less than or equal to (<=) 21569 times.**"
   ]
  },
  {
   "cell_type": "markdown",
   "metadata": {},
   "source": [
    "## The result is plausible with the figure above.\n",
    "### About 7746 users (5.23%) have the play counts less than or equal to (<=) 10 times. These users have very little interaction with the system, so there is more difficult for recommending for these users than other users creating more impact in the system (have a certain number of playCount)."
   ]
  },
  {
   "cell_type": "markdown",
   "metadata": {},
   "source": [
    "### How many play counts for each artist?"
   ]
  },
  {
   "cell_type": "code",
   "execution_count": 16,
   "metadata": {},
   "outputs": [
    {
     "name": "stdout",
     "output_type": "stream",
     "text": [
      "[Row(artistID=1003514, sum(playCount)=949), Row(artistID=1004346, sum(playCount)=3772), Row(artistID=5409, sum(playCount)=526693), Row(artistID=1002519, sum(playCount)=405), Row(artistID=1004223, sum(playCount)=409)]\n"
     ]
    },
    {
     "data": {
      "text/plain": [
       "1631028"
      ]
     },
     "execution_count": 16,
     "metadata": {},
     "output_type": "execute_result"
    }
   ],
   "source": [
    "artistPopularity = userArtistDF.groupby('artistID').sum('playCount').collect()\n",
    "print(artistPopularity[0:5])\n",
    "len(artistPopularity)"
   ]
  },
  {
   "cell_type": "code",
   "execution_count": 17,
   "metadata": {},
   "outputs": [
    {
     "name": "stdout",
     "output_type": "stream",
     "text": [
      "[      0       1       2 ... 1631025 1631026 1631027]\n"
     ]
    }
   ],
   "source": [
    "pdf1 = pd.DataFrame(data = artistPopularity)\n",
    "Y1 = np.sort(pdf1[1])\n",
    "yvals1 = np.arange(len(Y1))/float(len(Y1))\n",
    "print(np.arange(len(Y1)))"
   ]
  },
  {
   "cell_type": "code",
   "execution_count": 18,
   "metadata": {},
   "outputs": [
    {
     "data": {
      "text/plain": [
       "Text(0.5, 1.0, 'ECDF of number of play counts per artist ID')"
      ]
     },
     "execution_count": 18,
     "metadata": {},
     "output_type": "execute_result"
    },
    {
     "data": {
      "image/png": "[encoded data removed]",
      "text/plain": [
       "<Figure size 432x288 with 1 Axes>"
      ]
     },
     "metadata": {
      "needs_background": "light"
     },
     "output_type": "display_data"
    }
   ],
   "source": [
    "plt.semilogx(Y1, yvals1)\n",
    "plt.xlabel('play counts')\n",
    "plt.ylabel('ECDF')\n",
    "plt.grid(True,which=\"both\",ls=\"-\")\n",
    "plt.title('ECDF of number of play counts per artist ID')"
   ]
  },
  {
   "cell_type": "code",
   "execution_count": 19,
   "metadata": {},
   "outputs": [
    {
     "name": "stdout",
     "output_type": "stream",
     "text": [
      "SUM= 371638969\n",
      "Mean = 227.85566464830768\n",
      "Min= 1\n",
      "Max= 2502130\n",
      "Top 5 play counts = [1425942 1542806 1930592 2259185 2502130]\n",
      "Sum top 5 artist play count= 9660655\n",
      "Percentage of top 5 artist play counts: 0.025994730923925256\n",
      "P(playCount<=10)= 0.7486793605014751\n",
      "P(playCount<=1000)= 0.987435531456235\n"
     ]
    }
   ],
   "source": [
    "print('SUM=',Y1.sum())\n",
    "print('Mean =',Y1.mean())\n",
    "print('Min=',Y1.min())\n",
    "print('Max=',Y1.max())\n",
    "print('Top 5 play counts =',Y1[len(Y1)-5:len(Y1)])\n",
    "print('Sum top 5 artist play count=',Y1[len(Y1)-5:len(Y1)].sum())\n",
    "print('Percentage of top 5 artist play counts:',Y1[len(Y1)-5:len(Y1)].sum()/Y1.sum())\n",
    "print('P(playCount<=10)=',len(Y1[Y1<=10])/len(Y1))\n",
    "print('P(playCount<=1000)=',len(Y1[Y1<=1000])/len(Y1))\n",
    "\n"
   ]
  },
  {
   "cell_type": "markdown",
   "metadata": {},
   "source": [
    "## Answer "
   ]
  },
  {
   "cell_type": "markdown",
   "metadata": {},
   "source": [
    "**Total 371638969 play counts. In average, play count per artist is 227 times**\n",
    "\n",
    "**Have 74.87% of the artist is played less than or equal 10 times**\n",
    "\n",
    "**And 98.74% of the artist is played less then or equal 1000 times**\n",
    "\n",
    "**In the other hand, we have top 5 artist play counts: [1425942 1542806 1930592 2259185 2502130]. THis accounts for 2.6% on overall number of play count (5 of 1631027). Moreover, the play count of top 5 artist  is  much higher then then mean. So we can implie that we can recommend most played artists to every user with this top 5 artist, and still get high performance.**\n"
   ]
  },
  {
   "cell_type": "markdown",
   "metadata": {},
   "source": [
    "**Plot a bar chart to show top 5 artists In terms of absolute play counts**"
   ]
  },
  {
   "cell_type": "code",
   "execution_count": 20,
   "metadata": {},
   "outputs": [
    {
     "name": "stdout",
     "output_type": "stream",
     "text": [
      "[979, 1000113, 4267, 1000024, 4468]\n",
      "range(0, 5)\n",
      "[2502130, 2259185, 1930592, 1542806, 1425942]\n"
     ]
    },
    {
     "data": {
      "image/png": "[encoded data removed]",
      "text/plain": [
       "<Figure size 432x288 with 1 Axes>"
      ]
     },
     "metadata": {
      "needs_background": "light"
     },
     "output_type": "display_data"
    }
   ],
   "source": [
    "sortedArtist = sorted(artistPopularity, key = lambda x: -x[1])[:5]\n",
    "artistID = [w[0] for w in sortedArtist]\n",
    "\n",
    "print(artistID)\n",
    "\n",
    "y_pos = range(len(sortedArtist))\n",
    "print(y_pos)\n",
    "\n",
    "frequency = [w[1] for w in sortedArtist]\n",
    "print(frequency)\n",
    "plt.barh(y_pos, frequency[::-1], align='center',alpha=0.4)\n",
    "plt.yticks(y_pos,artistID[::-1])\n",
    "plt.xlabel('playCount')\n",
    "plt.ylabel('Artist')\n",
    "plt.title('Top-5 Artist ID per play counts')\n",
    "plt.show()\n",
    "\n"
   ]
  },
  {
   "cell_type": "markdown",
   "metadata": {},
   "source": [
    "## Answer:\n"
   ]
  },
  {
   "cell_type": "markdown",
   "metadata": {},
   "source": [
    "### In the previous, 98.74% of the artists have the play count less than or equal to (<=) 1000 times. So, top-5-artists is not sufficient to extract infomation about the data, they are the outliers . We should cut them out of data.\n"
   ]
  },
  {
   "cell_type": "markdown",
   "metadata": {},
   "source": [
    "### As the result, top 5 artist take about 2.6% of the total play counts, but 98.74% of the artist have the play count less than or equal to 1000 times. Then this is obviously that some artist are played much more then other artists"
   ]
  },
  {
   "cell_type": "markdown",
   "metadata": {},
   "source": [
    "# 1.3 Data Cleaning"
   ]
  },
  {
   "cell_type": "markdown",
   "metadata": {},
   "source": [
    "### Loading artist data"
   ]
  },
  {
   "cell_type": "markdown",
   "metadata": {},
   "source": [
    "Load data from /dataset/artist_data.txt and use SparkSQL API to show samples"
   ]
  },
  {
   "cell_type": "code",
   "execution_count": 21,
   "metadata": {},
   "outputs": [
    {
     "name": "stdout",
     "output_type": "stream",
     "text": [
      "+--------+--------------------+\n",
      "|artistID|                name|\n",
      "+--------+--------------------+\n",
      "| 1134999|        06Crazy Life|\n",
      "| 6821360|        Pang Nakarin|\n",
      "|10113088|Terfel, Bartoli- ...|\n",
      "|10151459| The Flaming Sidebur|\n",
      "| 6826647|   Bodenstandig 3000|\n",
      "+--------+--------------------+\n",
      "only showing top 5 rows\n",
      "\n"
     ]
    }
   ],
   "source": [
    "customSchemaArtist = StructType([ \\\n",
    "    StructField(\"artistID\", LongType(), True), \\\n",
    "    StructField(\"name\", StringType(), True)])\n",
    "\n",
    "artistDF = sqlContext.read \\\n",
    "    .format('com.databricks.spark.csv') \\\n",
    "    .options(header='false', delimiter='\\t', mode='DROPMALFORMED') \\\n",
    "    .load(base + \"artist_data.txt\", schema = customSchemaArtist) \\\n",
    "    .cache()\n",
    "artistDF.show(5)"
   ]
  },
  {
   "cell_type": "markdown",
   "metadata": {},
   "source": [
    "### Lookat the artists whose name contains \"Aero smith\". Take a look at artists that have ID equal to 1000010 and 2082323. Are they pointing to the same artist?"
   ]
  },
  {
   "cell_type": "code",
   "execution_count": 22,
   "metadata": {},
   "outputs": [
    {
     "name": "stdout",
     "output_type": "stream",
     "text": [
      "+--------+----------------------------------------------+\n",
      "|artistID|name                                          |\n",
      "+--------+----------------------------------------------+\n",
      "|10586006|Dusty Springfield/Aerosmith                   |\n",
      "|6946007 |Aerosmith/RunDMC                              |\n",
      "|10475683|Aerosmith: Just Push Play                     |\n",
      "|1083031 |Aerosmith/ G n R                              |\n",
      "|6872848 |Britney, Nsync, Nelly, Aerosmith,Mary J Blige.|\n",
      "|10586963|Green Day - Oasis - Eminem - Aerosmith        |\n",
      "|10028830|The Aerosmith Antology2                       |\n",
      "|10300357|Run-DMC + Aerosmith                           |\n",
      "|2027746 |Aerosmith by MusicInter.com                   |\n",
      "|1140418 |[rap]Run DMC and Aerosmith                    |\n",
      "|10237208|Aerosmith + Run DMC                           |\n",
      "|10588537|Aerosmith, Kid Rock, & Run DMC                |\n",
      "|9934757 |Aerosmith - Big Ones                          |\n",
      "|10437510|Green Day ft. Oasis & Aerosmith               |\n",
      "|6936680 |RUN DNC & Aerosmith                           |\n",
      "|10479781|Aerosmith Hits                                |\n",
      "|10114147|Charlies Angels - Aerosmith                   |\n",
      "|1262439 |Kid Rock, Run DMC & Aerosmith                 |\n",
      "|7032554 |Aerosmith & Run-D.M.C.                        |\n",
      "|10033592|Aerosmith?                                    |\n",
      "+--------+----------------------------------------------+\n",
      "only showing top 20 rows\n",
      "\n",
      "+--------+---------+\n",
      "|artistID|     name|\n",
      "+--------+---------+\n",
      "| 1000010|Aerosmith|\n",
      "+--------+---------+\n",
      "\n",
      "+--------+------------+\n",
      "|artistID|        name|\n",
      "+--------+------------+\n",
      "| 2082323|01 Aerosmith|\n",
      "+--------+------------+\n",
      "\n"
     ]
    }
   ],
   "source": [
    "# get artists whose name contains \"Aerosmith\"\n",
    "artistDF[locate(\"Aerosmith\",artistDF.name)>0].show(20,False)\n",
    "#show 2 example\n",
    "artistDF[artistDF.artistID==1000010].show()\n",
    "artistDF[artistDF.artistID==2082323].show()\n"
   ]
  },
  {
   "cell_type": "markdown",
   "metadata": {},
   "source": [
    "### They are pointing to the same artist ?"
   ]
  },
  {
   "cell_type": "markdown",
   "metadata": {},
   "source": [
    "To answer the question correctly, we need to use an additional dataset artist_alias.txt which contains the IDs of mispelled artists and standard artists. The schema of the dataset consists in :\n",
    "mispelledID ID: long int\n",
    "standard ID: long int"
   ]
  },
  {
   "cell_type": "markdown",
   "metadata": {},
   "source": [
    "Using SparkSQL load dataset from /dataset/artist_alias.txt"
   ]
  },
  {
   "cell_type": "code",
   "execution_count": 23,
   "metadata": {},
   "outputs": [
    {
     "name": "stdout",
     "output_type": "stream",
     "text": [
      "+-----------+----------+\n",
      "|mispelledID|standardID|\n",
      "+-----------+----------+\n",
      "|    1092764|   1000311|\n",
      "|    1095122|   1000557|\n",
      "|    6708070|   1007267|\n",
      "|   10088054|   1042317|\n",
      "|    1195917|   1042317|\n",
      "|    1112006|   1000557|\n",
      "|    1187350|   1294511|\n",
      "|    1116694|   1327092|\n",
      "|    6793225|   1042317|\n",
      "|    1079959|   1000557|\n",
      "|    6789612|   1000591|\n",
      "|    1262241|   1000591|\n",
      "|    6791455|   1000591|\n",
      "|    6694867|   1000591|\n",
      "|   10141141|   1113738|\n",
      "|    1295140|   1000591|\n",
      "|    1027859|   1252408|\n",
      "|    2127019|   1000591|\n",
      "|    2153974|   1000591|\n",
      "|    1232342|   1000591|\n",
      "+-----------+----------+\n",
      "only showing top 20 rows\n",
      "\n"
     ]
    }
   ],
   "source": [
    "customSchemaArtistAlias  = StructType([\\\n",
    "        StructField(\"mispelledID\", LongType(),True), \\\n",
    "        StructField(\"standardID\", LongType(),True)])\n",
    "artistAliasDF  = sqlContext.read \\\n",
    "        .format('com.databricks.spark.csv') \\\n",
    "        .options(header='false',delimiter='\\t',mode='DROPMALFORMED') \\\n",
    "        .load(base+\"artist_alias.txt\",schema=customSchemaArtistAlias) \\\n",
    "        .cache()\n",
    "artistAliasDF.show()  "
   ]
  },
  {
   "cell_type": "code",
   "execution_count": 24,
   "metadata": {},
   "outputs": [
    {
     "name": "stdout",
     "output_type": "stream",
     "text": [
      "+-----------+----------+\n",
      "|mispelledID|standardID|\n",
      "+-----------+----------+\n",
      "+-----------+----------+\n",
      "\n",
      "+-----------+----------+\n",
      "|mispelledID|standardID|\n",
      "+-----------+----------+\n",
      "|    2082323|   1000010|\n",
      "+-----------+----------+\n",
      "\n"
     ]
    }
   ],
   "source": [
    "artistAliasDF[artistAliasDF.mispelledID==1000010].show()\n",
    "artistAliasDF[artistAliasDF.mispelledID==2082323].show()"
   ]
  },
  {
   "cell_type": "markdown",
   "metadata": {},
   "source": [
    "**1000010 is standard id, so it haven't considered as mispelled ID in the dataset**"
   ]
  },
  {
   "cell_type": "markdown",
   "metadata": {},
   "source": [
    "The mispelled or nonstandard information about artist make our results in the previous queries a bit \"sloppy\". To overcome this problem, we can replace all mispelled artist ids by the corresponding standard ids and re-compute the basic descriptive statistics on the \"amended\" data. First, we construct a \"dictionary\" that maps non-standard ids to a standard ones. Then this \"dictionary\" will be used to replace the mispelled artists."
   ]
  },
  {
   "cell_type": "markdown",
   "metadata": {},
   "source": [
    "From data in the dataframe loaded from /dataset/artist_alias.txt, construct a dictionary that maps each non-standard id to its standard id."
   ]
  },
  {
   "cell_type": "code",
   "execution_count": 25,
   "metadata": {},
   "outputs": [
    {
     "data": {
      "text/plain": [
       "190893"
      ]
     },
     "execution_count": 25,
     "metadata": {},
     "output_type": "execute_result"
    }
   ],
   "source": [
    "artistAlias = artistAliasDF.rdd.map(lambda row: (row.mispelledID, row.standardID)).collectAsMap()\n",
    "\n",
    "#checking the total number of standard artistID\n",
    "len(artistAlias)\n",
    "#print(artistAlias)"
   ]
  },
  {
   "cell_type": "markdown",
   "metadata": {},
   "source": [
    "\n",
    "The total number row of the dictionary now 190893 artists. So we should standalize the field of the data which more likely to create ambiguity\n",
    "\n",
    "Using the constructed dictionary artistAlias, replace the non-standard artist ids in the dataframe that was loaded from /dataset/user_artist_data.txt by the corresponding standard ids then show 5 samples.\n",
    "\n",
    "NOTE: If an id doesn't exist in the dictionary as a mispelled id, it is really a standard id.\n",
    "\n",
    "Using funtion map on Spark Dataframe will give us an RDD. We can convert this RDD back to Dataframe by using sqlContext.createDataFrame(rdd_name, sql_schema)\n"
   ]
  },
  {
   "cell_type": "code",
   "execution_count": 26,
   "metadata": {},
   "outputs": [
    {
     "name": "stdout",
     "output_type": "stream",
     "text": [
      "+-------+--------+---------+\n",
      "| userID|artistID|playCount|\n",
      "+-------+--------+---------+\n",
      "|1000002|       1|       55|\n",
      "|1000002| 1000006|       33|\n",
      "|1000002| 1000007|        8|\n",
      "|1000002| 1000009|      144|\n",
      "|1000002| 1000010|      314|\n",
      "|1000002| 1000013|        8|\n",
      "|1000002| 1000014|       42|\n",
      "|1000002| 1000017|       69|\n",
      "|1000002| 1000024|      329|\n",
      "|1000002| 1000025|        1|\n",
      "|1000002| 1000028|       17|\n",
      "|1000002| 1000031|       47|\n",
      "|1000002| 1000033|       15|\n",
      "|1000002| 1000042|        1|\n",
      "|1000002| 1000045|        1|\n",
      "|1000002| 1000054|        2|\n",
      "|1000002| 1000055|       25|\n",
      "|1000002| 1000056|        4|\n",
      "|1000002| 1000059|        2|\n",
      "|1000002| 1000062|       71|\n",
      "+-------+--------+---------+\n",
      "only showing top 20 rows\n",
      "\n"
     ]
    }
   ],
   "source": [
    "from time import time\n",
    "bArtistAlias = sc.broadcast(artistAlias)\n",
    "def replaceMispelledIDs(fields):\n",
    "    finalID = bArtistAlias.value.get(fields[1],fields[1])\n",
    "    return (fields[0],finalID,fields[2])\n",
    "t0=time()\n",
    "newUserArtistDF =  sqlContext.createDataFrame(\n",
    "    userArtistDF.rdd.map(replaceMispelledIDs),userArtistDataSchema)\n",
    "newUserArtistDF.show()"
   ]
  },
  {
   "cell_type": "markdown",
   "metadata": {},
   "source": [
    "Well, our data frame contains clean and \"standard\" data. We can use it to redo previous statistic queries."
   ]
  },
  {
   "cell_type": "markdown",
   "metadata": {},
   "source": [
    "**How many unique artists? Compare with the result when using old data.**"
   ]
  },
  {
   "cell_type": "code",
   "execution_count": 27,
   "metadata": {},
   "outputs": [
    {
     "name": "stdout",
     "output_type": "stream",
     "text": [
      "Total n. of artist:  1568126\n"
     ]
    }
   ],
   "source": [
    "uniqueArtists = newUserArtistDF.select('artistID').distinct().count()\n",
    "print(\"Total n. of artist: \",uniqueArtists)"
   ]
  },
  {
   "cell_type": "markdown",
   "metadata": {},
   "source": [
    "### The number of artist is reduced (from 1631023 to 1568126) after cleaning and standardization "
   ]
  },
  {
   "cell_type": "markdown",
   "metadata": {},
   "source": [
    "\n",
    "Who are the top-10 artistis?\n",
    "\n",
    "    In terms of absolute play counts\n",
    "    In terms of \"audience size\", that is, how many users listened to one of their track at least once\n",
    "\n",
    "Plot the results, and explain the figures you obtain.\n"
   ]
  },
  {
   "cell_type": "code",
   "execution_count": 28,
   "metadata": {},
   "outputs": [
    {
     "data": {
      "image/png": "[encoded data removed]",
      "text/plain": [
       "<Figure size 432x288 with 1 Axes>"
      ]
     },
     "metadata": {
      "needs_background": "light"
     },
     "output_type": "display_data"
    }
   ],
   "source": [
    "# caculate topo 10 artists in term of play counts\n",
    "top10ArtistsPC = newUserArtistDF.groupby('artistID').sum('playCount').orderBy('sum(playCount)', ascending=0).take(10)\n",
    "y_pos = list(range(len(top10ArtistsPC)))\n",
    "pdf = pd.DataFrame(data=top10ArtistsPC)\n",
    "plt.barh(y_pos, pdf[1][::-1],align='center', alpha=0.4)\n",
    "plt.yticks(y_pos,pdf[0][::-1])\n",
    "plt.xlabel('Play Count')\n",
    "plt.ylabel('Artist')\n",
    "plt.title('Top 10 Artist ID per play counts')\n",
    "plt.show()"
   ]
  },
  {
   "cell_type": "markdown",
   "metadata": {},
   "source": [
    "\n",
    "### After removing all mispelledID, there is little increase in playCounts of top-10-artists.\n",
    "**Here I show the comparison on playCount of top 10 artist before and after removing mispelledID**\n",
    "\n",
    "**artistID=979: 2502130 -> 2502596.**\n",
    "\n",
    "**artistID=1000113: 2259185 -> 2259825.**\n",
    "\n",
    "**artistID=4267: 1930592 -> 1931143.**\n",
    "\n",
    "**artistID=1000024: 1542806 -> 1543430.**\n",
    "\n",
    "**artistID=4468: 1425942 -> 1426254.**\n",
    "\n",
    "**artistID=82: 1399418 -> 1399665.**\n",
    "\n",
    "**artistID=831: 1361392 -> 1361977.**\n",
    "\n",
    "**artistID=1001779: 1328869 -> 1328969.**\n",
    "\n",
    "**artistID=1000130: 1234387 -> 1234773.**\n",
    "\n",
    "**artistID=976: 1203226 -> 1203348.**\n",
    "\n",
    "**The chart shows that playCount dramatiaclly decreases from the 1st artist to the 4th artist in top-10-artists, but from the 4th artist to 10th artist, it decreases slightly.**\n"
   ]
  },
  {
   "cell_type": "markdown",
   "metadata": {},
   "source": [
    "### The chart shows that playCount dramatiaclly decreases from the 1st artist to the 4th artist in top-10-artists, but from the 4th artist to 10th artist, it decreases slightly."
   ]
  },
  {
   "cell_type": "markdown",
   "metadata": {},
   "source": [
    "\n",
    "### Who are the top-10 users?\n",
    "\n",
    "    In terms of absolute play counts\n",
    "    In terms of \"curiosity\", that is, how many different artists they listened to\n",
    "\n",
    "Plot the results\n"
   ]
  },
  {
   "cell_type": "code",
   "execution_count": 29,
   "metadata": {},
   "outputs": [
    {
     "data": {
      "image/png": "[encoded data removed]",
      "text/plain": [
       "<Figure size 432x288 with 1 Axes>"
      ]
     },
     "metadata": {
      "needs_background": "light"
     },
     "output_type": "display_data"
    }
   ],
   "source": [
    "# caculate top 10 users in term of play counts\n",
    "top10UsersByPlayCount = newUserArtistDF.groupby(\"userID\").sum('playCount').orderBy('sum(playCount)', ascending=0).take(10)\n",
    "y_pos = list(range(len(top10UsersByPlayCount)))\n",
    "pdf=pd.DataFrame(data=top10UsersByPlayCount)\n",
    "\n",
    "plt.barh(y_pos, pdf[1][::-1], align='center',alpha=0.4)\n",
    "plt.yticks(y_pos, pdf[0][::-1])\n",
    "plt.xlabel('Play Count')\n",
    "plt.ylabel('User')\n",
    "plt.title('Top 10 user ID per play count')\n",
    "plt.show()"
   ]
  },
  {
   "cell_type": "code",
   "execution_count": 30,
   "metadata": {},
   "outputs": [
    {
     "data": {
      "image/png": "[encoded data removed]",
      "text/plain": [
       "<Figure size 432x288 with 1 Axes>"
      ]
     },
     "metadata": {
      "needs_background": "light"
     },
     "output_type": "display_data"
    }
   ],
   "source": [
    "top10UsersByCuriosity = (newUserArtistDF.dropDuplicates(['userID','artistID'])\n",
    "                            .groupBy(\"userID\")\n",
    "                            .count()\n",
    "                            .orderBy('count', ascending=0)\n",
    "                            .take(10)\n",
    "                        )\n",
    "y_pos=range(len(top10UsersByCuriosity))     \n",
    "pdf=pd.DataFrame(data=top10UsersByCuriosity)\n",
    "plt.barh(y_pos,pdf[1][::-1],align='center',alpha=0.4)\n",
    "plt.yticks(y_pos,pdf[0][::-1])\n",
    "plt.xlabel('Number of played artist')\n",
    "plt.ylabel('User')\n",
    "plt.title('Top-10 Users ID per Curiosity')\n",
    "plt.show()                 \n",
    "                 "
   ]
  },
  {
   "cell_type": "markdown",
   "metadata": {},
   "source": [
    "## 2. Build a statistical models to make recommendations"
   ]
  },
  {
   "cell_type": "markdown",
   "metadata": {},
   "source": [
    "### 2.1 Introduction to recommender systems\n",
    "\n",
    "In a recommendation-system application there are two classes of entities, which we shall refer to as users and items. Users have preferences for certain items, and these preferences must be inferred from the data. The data itself is represented as a preference matrix $A$, giving for each user-item pair, a value that represents what is known about the degree of preference of that user for that item. The table below is an example for a preference matrix of 5 users and k items. The preference matrix is also known as utility matrix."
   ]
  },
  {
   "cell_type": "markdown",
   "metadata": {},
   "source": [
    "|  | IT1        | IT2      | IT3  | ... | ITk |\n",
    "|--| ---------- |:--------:|:----:|:---:|-----|\n",
    "|U1| 1          | ...      | 5    |...  |3    |\n",
    "|U2| ...        | 2        | ...  |...  |2    |\n",
    "|U3| 5          | ...      | 3    |...  |...  |\n",
    "|U4| 3          | 3        |      |...  |4    |\n",
    "|U5| ...        | 1        | ...  |...  |...  |"
   ]
  },
  {
   "cell_type": "markdown",
   "metadata": {},
   "source": [
    "The value of row i, column j expresses how much does user i like item j. The values are often the rating scores of users for items. An unknown value implies that we have no explicit information about the user's preference for the item. The goal of a recommendation system is to predict \"the blanks\" in the preference matrix. For example, assume that the rating score is from 1 (dislike) to 5 (love), would user U5 like IT3 ? We have two approaches:\n",
    "\n",
    "    * Designing our recommendation system to take into account properties of items such as brand, category, price... or even the similarity of their names. We can denote the similarity of items IT2 and IT3, and then conclude that because user U5 did not like IT2, they were unlikely to enjoy SW2 either.\n",
    "\n",
    "    * We might observe that the people who rated both IT2 and IT3 tended to give them similar ratings. Thus, we could conclude that user U5 would also give IT3 a low rating, similar to U5's rating of IT2\n",
    "\n",
    "It is not necessary to predict every blank entry in a utility matrix. Rather, it is only necessary to discover some entries in each row that are likely to be high. In most applications, the recommendation system does not oﬀer users a ranking of all items, but rather suggests a few that the user should value highly. It may not even be necessary to ﬁnd all items with the highest expected ratings, but only to ﬁnd a large subset of those with the highest ratings."
   ]
  },
  {
   "cell_type": "markdown",
   "metadata": {},
   "source": [
    "### 2.2 Families of recommender systems"
   ]
  },
  {
   "cell_type": "markdown",
   "metadata": {},
   "source": [
    "In general, recommender systems can be categorized into two groups:\n",
    "\n",
    "    *Content-Based systems focus on properties of items. Similarity of items is determined by measuring the similarity in their properties.\n",
    "\n",
    "    *Collaborative-Filtering systems focus on the relationship between users and items. Similarity of items is determined by the similarity of the ratings of those items by the users who have rated both items.\n",
    "\n",
    "In the usecase of this notebook, artists take the role of items, and users keep the same role as users. Since we have no information about artists, except their names, we cannot build a content-based recommender system.\n",
    "\n",
    "Therefore, in the rest of this notebook, we only focus on Collaborative-Filtering algorithms.\n",
    "### 2.3 Collaborative-Filtering\n",
    "\n",
    "In this section, we study a member of a broad class of algorithms called latent-factor models. They try to explain observed interactions between large numbers of users and products through a relatively small number of unobserved, underlying reasons. It is analogous to explaining why millions of people buy a particular few of thousands of possible albums by describing users and albums in terms of tastes for perhaps tens of genres, tastes which are not directly observable or given as data.\n",
    "\n",
    "First, we formulate the learning problem as a matrix completion problem. Then, we will use a type of matrix factorization model to \"fill in\" the blanks. We are given implicit ratings that users have given certain items (that is, the number of times they played a particular artist) and our goal is to predict their ratings for the rest of the items. Formally, if there are $n$ users and $m$ items, we are given an $n \\times m$ matrix $R$ in which the generic entry $(u, i)$ represents the rating for item $i$ by user $u$. Matrix $R$ has many missing entries indicating unobserved ratings, and our task is to estimate these unobserved ratings.\n",
    "\n",
    "A popular approach to the matrix completion problem is matrix factorization, where we want to \"summarize\" users and items with their latent factors.\n",
    "Parallel Altenating Least Squares using broadcast variables\n",
    "\n",
    "The approach takes advantage of the fact that the $X$ and $Y$ factor matrices are often very small and can be stored locally on each machine.\n",
    "\n",
    "    * Partition the Ratings RDD by user to create $R_1$, and similarly partition the Ratings RDD by item to create $R_2$. This means there are two copies of the same Ratings RDD, albeit with different partitionings. In $R_1$, all ratings by the same user are on the same machine, and in $R_2$ all ratings for same item are on the same machine.\n",
    "    * Broadcast the matrices $X$ and $Y$. Note that these matrices are not RDD of vectors: they are now \"local: matrices.\n",
    "    * Using $R_1$ and $Y$, we can use expression $x_u$ from above to compute the update of $x_u$ locally on each machine\n",
    "    * Using $R_2$ and $X$, we can use expression $y_i$ from above to compute the update of $y_i$ locally on each machine\n",
    "\n",
    "A further optimization to this method is to group the $X$ and $Y$ factors matrices into blocks (user blocks and item blocks) and reduce the communication by only sending to each machine the block of users (or items) that are needed to compute the updates at that machine.\n",
    "\n",
    "This method is called Block ALS. It is achieved by precomputing some information about the ratings matrix to determine the \"out-links\" of each user (which blocks of the items it will contribute to) and \"in-link\" information for each item (which of the factor vectors it receives from each user block it will depend on). For exmple, assume that machine 1 is responsible for users 1,2,...,37: these will be block 1 of users. The items rated by these users are block 1 of items. Only the factors of block 1 of users and block 1 of items will be broadcasted to machine 1."
   ]
  },
  {
   "cell_type": "markdown",
   "metadata": {},
   "source": [
    "## 3. Usecase : Music recommender system  "
   ]
  },
  {
   "cell_type": "markdown",
   "metadata": {},
   "source": [
    "### 3.1 Requirements\n",
    "\n",
    "According to the properties of data, we need to choose a recommender algorithm that is suitable for this implicit feedback data. It means that the algorithm should learn without access to user or artist attributes such as age, genre,.... Therefore, an algorithm of type collaborative filtering is the best choice.\n",
    "\n",
    "Second, in the data, there are some users that have listened to only 1 artist. We need an algorithm that might provide decent recommendations to even these users. After all, at some point, every user starts out with just one play at some point!\n",
    "\n",
    "Third, we need an algorithm that scales, both in its ability to build large models, and to create recommendations quickly. So, an algorithm which can run on a distributed system (SPARK, Hadoop...) is very suitable.\n",
    "\n",
    "From these requirement, we can choose using ALS algorithm in SPARK's MLLIB.\n",
    "\n",
    "Spark MLlib’s ALS implementation draws on ideas from 1 and 2.\n",
    "### 3.2 Notes\n",
    "\n",
    "Currently, MLLIB can only build models from an RDD. That means we have two ways to prepare data:\n",
    "\n",
    "    Loading to into SPARK SQL DataFrame as before, and then access the corresponding RDD by calling <dataframe>.rdd. The invalid data is often sucessfully dropped by using mode DROPMALFORMED. However, this way might not work in all cases. Fortunately, we can use it with this usecase.\n",
    "\n",
    "    Loading data directly to RDD. However, we have to deal with the invalid data ourself. In the trade-off, this way is the most reliable, and can work in every case.\n",
    "\n",
    "In this notebook, we will use the second approach: it requires a bit more effort, but the reward is worth it!\n",
    "### 3.3 Cleanup the data\n",
    "\n",
    "In section Data Integration, I already replaced the ids of mispelled artist IDs by the corresponding standard ids by using SPARK SQL API. However, if the data has the invalid entries such that SPARK SQL API is stuck, the best way to work with it is using an RDD.\n",
    "\n",
    "Just as a recall, I work with three datasets in user_artist_data.txt, ` andartist_alias.txt`. The entries in these file can be empty or have only one field.\n",
    "\n",
    "In details our goal now is:\n",
    "\n",
    "    Read the input user_artist_data.txt and transforms its representation into an output dataset.\n",
    "    To produce an output \"tuple\" containing the original user identifier and play counts, but with the artist identifier replaced by its most common alias, as found in the artist_alias.txt dataset.\n",
    "    Since the artist_alias.txt file is small, we can use a technique called broadcast variables to make such transformation more efficient.\n"
   ]
  },
  {
   "cell_type": "markdown",
   "metadata": {},
   "source": [
    "\n",
    "### Load data from /dataset/artist_alias.txt and filter out the invalid entries to construct a dictionary to map from mispelled artists' ids to standard ids.\n",
    "\n",
    "NOTE:\n",
    "\n",
    "    From now on, we will use the \"standard\" data to train our model.\n",
    "\n",
    "    If a line contains less than 2 fields or contains invalid numerial values, we can return a special tuple. After that, we can filter out these special tuples.\n",
    "\n"
   ]
  },
  {
   "cell_type": "code",
   "execution_count": 31,
   "metadata": {},
   "outputs": [],
   "source": [
    "rawArtistAlias = sc.textFile(base + \"artist_alias.txt\")\n",
    "\n",
    "def xtractFields(s):\n",
    "    # Using white space or tab character as separetors,\n",
    "    # split a line into list of strings \n",
    "    line = re.split(\"\\s|\\t\",s,1)\n",
    "    # if this line has at least 2 characters\n",
    "    if (len(line) > 1):\n",
    "        try:\n",
    "            # try to parse the first and the second components to integer type\n",
    "            return (int(line[0]), int(line[1]))\n",
    "        except ValueError:\n",
    "            # if parsing has any error, return a special tuple\n",
    "            return (-1,-1)\n",
    "    else:\n",
    "        # if this line has less than 2 characters, return a special tuple\n",
    "        return (-1,-1)\n",
    "\n",
    "artistAlias = (\n",
    "                rawArtistAlias\n",
    "                    # extract fields using function xtractFields\n",
    "                    .map( lambda x: xtractFields(x))\n",
    "\n",
    "                    # fileter out the special tuples\n",
    "                    .filter( lambda x: x != (-1,-1) )\n",
    "                    # collect result to the driver as a \"dictionary\"\n",
    "                    .collectAsMap()\n",
    "                )            "
   ]
  },
  {
   "cell_type": "markdown",
   "metadata": {},
   "source": [
    "### Prepare RDD userArtistDataRDD by replacing mispelled artists' ids to standard ids. Show 5 samples"
   ]
  },
  {
   "cell_type": "markdown",
   "metadata": {},
   "source": [
    "Using broadcast varible can help us increase the effiency."
   ]
  },
  {
   "cell_type": "code",
   "execution_count": 32,
   "metadata": {},
   "outputs": [
    {
     "data": {
      "text/plain": [
       "[('1000002', '1', '55'),\n",
       " ('1000002', '1000006', '33'),\n",
       " ('1000002', '1000007', '8'),\n",
       " ('1000002', '1000009', '144'),\n",
       " ('1000002', '1000010', '314')]"
      ]
     },
     "execution_count": 32,
     "metadata": {},
     "output_type": "execute_result"
    }
   ],
   "source": [
    "bArtistAlias = sc.broadcast(artistAlias)\n",
    "rawUserArtistData = sc.textFile(base+\"user_artist_data.txt\")\n",
    "\n",
    "def disambiguate(line):\n",
    "    [userID, artistID, count]=line.split(' ')\n",
    "    finalArtistID = bArtistAlias.value.get(artistID,artistID)\n",
    "    return (userID,finalArtistID,count)\n",
    "\n",
    "userArtistDataRDD =  rawUserArtistData.map(disambiguate)\n",
    "userArtistDataRDD.take(5)"
   ]
  },
  {
   "cell_type": "markdown",
   "metadata": {},
   "source": [
    "### 3.4 Training our statistical model"
   ]
  },
  {
   "cell_type": "markdown",
   "metadata": {},
   "source": [
    "To train a model using ALS, we must use a preference matrix as an input. MLLIB uses the class Rating to support the construction of a distributed preference matrix.\n",
    "\n",
    "**Given RDD userArtistDataRDD in previous section, construct a new RDD called trainingData by tranforming each item of it into a Rating object.**\n",
    "\n"
   ]
  },
  {
   "cell_type": "code",
   "execution_count": 33,
   "metadata": {},
   "outputs": [],
   "source": [
    "from pyspark.mllib.recommendation import ALS, MatrixFactorizationModel, Rating"
   ]
  },
  {
   "cell_type": "code",
   "execution_count": 34,
   "metadata": {},
   "outputs": [
    {
     "data": {
      "text/plain": [
       "[Rating(user=1038228, product=1045884, rating=1.0),\n",
       " Rating(user=1038228, product=10459918, rating=4.0),\n",
       " Rating(user=1038228, product=1046041, rating=4.0),\n",
       " Rating(user=1038228, product=10473786, rating=1.0),\n",
       " Rating(user=1038228, product=1047966, rating=1.0)]"
      ]
     },
     "execution_count": 34,
     "metadata": {},
     "output_type": "execute_result"
    }
   ],
   "source": [
    "allData = userArtistDataRDD.map(lambda r: Rating(float(r[0]), float(r[1]), int(r[2]))).repartition(12).cache()\n",
    "allData.take(5)"
   ]
  },
  {
   "cell_type": "markdown",
   "metadata": {},
   "source": [
    "**A model can be trained by using ALS.trainImplicit(< training data >, < rank > ), where:**\n",
    "\n",
    "    * training data is the input data you decide to feed to the ALS algorithm\n",
    "    * rank is the number of laten features\n",
    "\n",
    "We can also use some additional parameters to adjust the quality of the model. Currently, let's set\n",
    "\n",
    "    * rank=10\n",
    "    * iterations=5\n",
    "    * lambda_=0.01\n",
    "    * alpha=1.0\n",
    "\n",
    "to build model.\n"
   ]
  },
  {
   "cell_type": "code",
   "execution_count": 35,
   "metadata": {},
   "outputs": [
    {
     "name": "stdout",
     "output_type": "stream",
     "text": [
      "finish training model in 222.077509 secs\n"
     ]
    }
   ],
   "source": [
    "#setting parameters\n",
    "rank=10\n",
    "iterations=5\n",
    "lambda_=0.01\n",
    "alpha=1.0\n",
    "\n",
    "#training\n",
    "t0=time()\n",
    "model = ALS.trainImplicit(allData, rank)\n",
    "t1=time()\n",
    "print(\"finish training model in %f secs\" %(t1-t0))"
   ]
  },
  {
   "cell_type": "markdown",
   "metadata": {},
   "source": [
    "**The trained model can be saved into HDFS for later use. This can be done via model.save(sc, <file_name>).**\n",
    "\n",
    "Let's use this function to store our model as name music_rec_model.spark.\n"
   ]
  },
  {
   "cell_type": "code",
   "execution_count": 36,
   "metadata": {},
   "outputs": [
    {
     "name": "stdout",
     "output_type": "stream",
     "text": [
      "Save new model\n"
     ]
    }
   ],
   "source": [
    "#! hdfs dfs -rm -R -f -skipTrash lastfm_model.spark\n",
    "#print('Delete old model')\n",
    "model.save(sc,'music_rec_model.spark')\n",
    "print('Save new model')"
   ]
  },
  {
   "cell_type": "markdown",
   "metadata": {},
   "source": [
    "**A saved model can be load from file by using MatrixFactorizationModel.load(sc, <file_name>).**\n",
    "\n",
    "Let's load the saved model from file.\n"
   ]
  },
  {
   "cell_type": "code",
   "execution_count": 37,
   "metadata": {},
   "outputs": [
    {
     "name": "stdout",
     "output_type": "stream",
     "text": [
      "finish loading model in 8.830762 secs\n"
     ]
    }
   ],
   "source": [
    "t0=time()\n",
    "model = MatrixFactorizationModel.load(sc,'music_rec_model.spark')\n",
    "t1=time()\n",
    "print(\"finish loading model in %f secs\" % (t1 - t0))"
   ]
  },
  {
   "cell_type": "markdown",
   "metadata": {},
   "source": [
    "**Print the first row of user features in our model.**"
   ]
  },
  {
   "cell_type": "code",
   "execution_count": 38,
   "metadata": {},
   "outputs": [
    {
     "data": {
      "text/plain": [
       "<bound method RDD.first of PythonRDD[353] at RDD at PythonRDD.scala:52>"
      ]
     },
     "execution_count": 38,
     "metadata": {},
     "output_type": "execute_result"
    }
   ],
   "source": [
    "model.userFeatures().first"
   ]
  },
  {
   "cell_type": "markdown",
   "metadata": {},
   "source": [
    "### Show the top-5 artist names recommendated for user 2093760.\n",
    "\n",
    "The recommendations can be given by function recommendProducts(userID, num_recommendations). These recommendations are only artist ids. We have to map them to artist names by using data in artist_data.txt."
   ]
  },
  {
   "cell_type": "code",
   "execution_count": 39,
   "metadata": {},
   "outputs": [
    {
     "name": "stdout",
     "output_type": "stream",
     "text": [
      "[Rating(user=2093760, product=1007614, rating=0.037714907162665026), Rating(user=2093760, product=2814, rating=0.03568757864008079), Rating(user=2093760, product=4605, rating=0.03513667576715563), Rating(user=2093760, product=250, rating=0.03321964852038098), Rating(user=2093760, product=829, rating=0.03317592093543818)]\n"
     ]
    },
    {
     "data": {
      "text/plain": [
       "{250, 829, 2814, 4605, 1007614}"
      ]
     },
     "execution_count": 39,
     "metadata": {},
     "output_type": "execute_result"
    }
   ],
   "source": [
    "# make 5 recomendation to user 2093760\n",
    "recommendations = (model.recommendProducts(2093760,5))\n",
    "print(recommendations)\n",
    "\n",
    "#construct set of recommendated artist\n",
    "recArtist = set(rating[1] for rating in recommendations )\n",
    "\n",
    "recArtist\n"
   ]
  },
  {
   "cell_type": "code",
   "execution_count": 40,
   "metadata": {},
   "outputs": [],
   "source": [
    "# construct data of artist (artist_id, artist_name)\n",
    "rawArtistData = sc.textFile(base+\"artist_data.txt\")\n",
    "\n",
    "def xtractFields(s):\n",
    "    line=re.split(\"\\s|\\t\",s,1)\n",
    "    if (len(line)>1):\n",
    "        try:\n",
    "            return (int(line[0]), str(line[1].strip()))\n",
    "        except ValueError:\n",
    "            return (-1,\"\")\n",
    "    else:\n",
    "        return (-1,\"\")\n",
    "artistByID = rawArtistData.map(xtractFields).filter(lambda x: x[0] >0)"
   ]
  },
  {
   "cell_type": "code",
   "execution_count": 41,
   "metadata": {},
   "outputs": [
    {
     "name": "stdout",
     "output_type": "stream",
     "text": [
      "['50 Cent', 'Snoop Dogg', 'Nas', 'Jay-Z', 'Outkast']\n"
     ]
    }
   ],
   "source": [
    "#Filter in those Artist , get just artist \n",
    "def artistNames(line):\n",
    "    if(line[0] in recArtist ):\n",
    "        return True\n",
    "    else:\n",
    "        return False\n",
    "recList = artistByID.filter(artistNames).values().collect()\n",
    "print(recList)"
   ]
  },
  {
   "cell_type": "code",
   "execution_count": 42,
   "metadata": {},
   "outputs": [],
   "source": [
    "def unpersist(model):\n",
    "    model.userFeatures().unpersist()\n",
    "    model.productFeatures().unpersist()\n",
    "#uncache data and model  when they are no longer used\n",
    "unpersist(model)"
   ]
  },
  {
   "cell_type": "markdown",
   "metadata": {},
   "source": [
    "### 3.5 Evaluating Recommendation Quality"
   ]
  },
  {
   "cell_type": "markdown",
   "metadata": {},
   "source": [
    "In this section, we study how to evaluate the quality of our model. It's hard to say how good the recommendations are. One of serveral methods approach to evaluate a recommender based on its ability to rank good items (artists) high in a list of recommendations. The problem is how to define \"good artists\". Currently, by training all data, \"good artists\" is defined as \"artists the user has listened to\", and the recommender system has already received all of this information as input. It could trivially return the users previously-listened artists as top recommendations and score perfectly. Indeed, this is not useful, because the recommender's is used to recommend artists that the user has never listened to.\n",
    "\n",
    "To overcome that problem, we can hide the some of the artist play data and only use the rest to train model. Then, this held-out data can be interpreted as a collection of \"good\" recommendations for each user. The recommender is asked to rank all items in the model, and the rank of the held-out artists are examined. Ideally the recommender places all of them at or near the top of the list.\n",
    "\n",
    "The recommender's score can then be computed by comparing all held-out artists' ranks to the rest. The fraction of pairs where the held-out artist is ranked higher is its score. 1.0 is perfect, 0.0 is the worst possible score, and 0.5 is the expected value achieved from randomly ranking artists.\n",
    "\n",
    "AUC(Area Under the Curve) can be used as a metric to evaluate model. It is also viewed as the probability that a randomly-chosen \"good\" artist ranks above a randomly-chosen \"bad\" artist.\n",
    "\n",
    "Next, we split the training data into 2 parts: trainData and cvData with ratio 0.7:0.3 respectively, where trainData is the dataset that will be used to train model. Then we write a function to calculate AUC to evaluate the quality of our model."
   ]
  },
  {
   "cell_type": "markdown",
   "metadata": {},
   "source": [
    "**Split the data into trainData and cvData with ratio 0.9:0.1 and use the first part to train a statistic model with:**\n",
    "\n",
    "    *rank=10\n",
    "    *iterations=5\n",
    "    *lambda_=0.01\n",
    "    *alpha=1.0\n",
    "\n"
   ]
  },
  {
   "cell_type": "code",
   "execution_count": 43,
   "metadata": {},
   "outputs": [
    {
     "data": {
      "text/plain": [
       "PythonRDD[370] at RDD at PythonRDD.scala:52"
      ]
     },
     "execution_count": 43,
     "metadata": {},
     "output_type": "execute_result"
    }
   ],
   "source": [
    "trainData, cvData = allData.randomSplit([0.7,0.3],1)\n",
    "trainData.cache()\n",
    "cvData.cache()"
   ]
  },
  {
   "cell_type": "code",
   "execution_count": 44,
   "metadata": {},
   "outputs": [
    {
     "name": "stdout",
     "output_type": "stream",
     "text": [
      "finish training model in 144.880066 secs \n"
     ]
    }
   ],
   "source": [
    "#training\n",
    "t0= time()\n",
    "model = ALS.trainImplicit(ratings=trainData, rank=rank, iterations=iterations, lambda_=lambda_, alpha=alpha)\n",
    "t1=time()\n",
    "print(\"finish training model in %f secs \" %(t1-t0))"
   ]
  },
  {
   "cell_type": "markdown",
   "metadata": {},
   "source": [
    "### Area under the ROC curve: a function to compute it"
   ]
  },
  {
   "cell_type": "code",
   "execution_count": 45,
   "metadata": {},
   "outputs": [],
   "source": [
    "# # Get all unique artistId, and broadcast them\n",
    "allItemIDs = np.array(allData.map(lambda x:x[1]).distinct().collect())\n",
    "bAllItemIDs = sc.broadcast(allItemIDs)"
   ]
  },
  {
   "cell_type": "code",
   "execution_count": 46,
   "metadata": {},
   "outputs": [],
   "source": [
    "from random import randint\n",
    "\n",
    "# Depend on the number of item in userIDAndPosItemIDs,\n",
    "# create a set of \"negative\" products for each user. These are randomly chosen\n",
    "# from among all of the other items, excluding those that are \"positive\" for the user.\n",
    "# NOTE 1: mapPartitions operates on many (user,positive-items) pairs at once\n",
    "# NOTE 2: flatMap breaks the collections above down into one big set of tuples\n",
    "def xtractNegative(userIDAndPosItemIDs):\n",
    "    def pickEnoughNegatives(line):\n",
    "        userID = line[0]\n",
    "        posItemIDSet = set(line[1])\n",
    "        #posItemIDSet = line[1]\n",
    "        negative = []\n",
    "        allItemIDs = bAllItemIDs.value\n",
    "        # Keep about as many negative examples per user as positive. Duplicates are OK.\n",
    "        i = 0\n",
    "        while (i < len(allItemIDs) and len(negative) < len(posItemIDSet)):\n",
    "            itemID = allItemIDs[randint(0,len(allItemIDs)-1)]\n",
    "            if itemID not in posItemIDSet:\n",
    "                negative.append(itemID)\n",
    "            i += 1\n",
    "        \n",
    "        # Result is a collection of (user,negative-item) tuples\n",
    "        return map(lambda itemID: (userID, itemID), negative)\n",
    "\n",
    "    # Init an RNG and the item IDs set once for partition\n",
    "    # allItemIDs = bAllItemIDs.value\n",
    "    return map(pickEnoughNegatives, userIDAndPosItemIDs)\n",
    "\n",
    "def ratioOfCorrectRanks(positiveRatings, negativeRatings):\n",
    "    \n",
    "    # find number elements in arr that has index >= start and has value smaller than x\n",
    "    # arr is a sorted array\n",
    "    def findNumElementsSmallerThan(arr, x, start=0):\n",
    "        left = start\n",
    "        right = len(arr) -1\n",
    "        # if x is bigger than the biggest element in arr\n",
    "        if start > right or x > arr[right]:\n",
    "            return right + 1\n",
    "        mid = -1\n",
    "        while left <= right:\n",
    "            mid = (left + right) // 2\n",
    "            if arr[mid] < x:\n",
    "                left = mid + 1\n",
    "            elif arr[mid] > x:\n",
    "                right = mid - 1\n",
    "            else:\n",
    "                while mid-1 >= start and arr[mid-1] == x:\n",
    "                    mid -= 1\n",
    "                return mid\n",
    "        return mid if arr[mid] > x else mid + 1\n",
    "    \n",
    "    ## AUC may be viewed as the probability that a random positive item scores\n",
    "    ## higher than a random negative one. Here the proportion of all positive-negative\n",
    "    ## pairs that are correctly ranked is computed. The result is equal to the AUC metric.\n",
    "    correct = 0 ## L\n",
    "    total = 0 ## L\n",
    "    \n",
    "    # sorting positiveRatings array needs more cost\n",
    "    #positiveRatings = np.array(map(lambda x: x.rating, positiveRatings))\n",
    "\n",
    "    negativeRatings = list(map(lambda x:x.rating, negativeRatings))\n",
    "    \n",
    "    #np.sort(positiveRatings)\n",
    "    negativeRatings.sort()# = np.sort(negativeRatings)\n",
    "    total = len(positiveRatings)*len(negativeRatings)\n",
    "    \n",
    "    for positive in positiveRatings:\n",
    "        # Count the correctly-ranked pairs\n",
    "        correct += findNumElementsSmallerThan(negativeRatings, positive.rating)\n",
    "        \n",
    "    ## Return AUC: fraction of pairs ranked correctly\n",
    "    return float(correct) / total\n",
    "\n",
    "def calculateAUC(positiveData, bAllItemIDs, predictFunction):\n",
    "    # Take held-out data as the \"positive\", and map to tuples\n",
    "    positiveUserProducts = positiveData.map(lambda r: (r[0], r[1]))\n",
    "    # Make predictions for each of them, including a numeric score, and gather by user\n",
    "    positivePredictions = predictFunction(positiveUserProducts).groupBy(lambda r: r.user)\n",
    "    \n",
    "    # Create a set of \"negative\" products for each user. These are randomly chosen \n",
    "    # from among all of the other items, excluding those that are \"positive\" for the user. \n",
    "    negativeUserProducts = positiveUserProducts.groupByKey().mapPartitions(xtractNegative).flatMap(lambda x: x)\n",
    "    # Make predictions on the rest\n",
    "    negativePredictions = predictFunction(negativeUserProducts).groupBy(lambda r: r.user)\n",
    "    \n",
    "    return (\n",
    "            positivePredictions.join(negativePredictions)\n",
    "                .values()\n",
    "                .map(\n",
    "                    lambda positive_negativeRatings: ratioOfCorrectRanks(positive_negativeRatings[0], positive_negativeRatings[1])\n",
    "                )\n",
    "                .mean()\n",
    "            )"
   ]
  },
  {
   "cell_type": "markdown",
   "metadata": {},
   "source": [
    "**Using part cvData and function calculateAUC to compute the AUC of the trained model.**"
   ]
  },
  {
   "cell_type": "code",
   "execution_count": 47,
   "metadata": {},
   "outputs": [
    {
     "name": "stdout",
     "output_type": "stream",
     "text": [
      "auc= 0.9587694374400394\n",
      "finish in 315.478534 secs\n"
     ]
    }
   ],
   "source": [
    "t0=time()\n",
    "auc=calculateAUC(cvData, bAllItemIDs, model.predictAll)\n",
    "t1=time()\n",
    "print(\"auc=\",auc)\n",
    "print(\"finish in %f secs\" %(t1-t0))"
   ]
  },
  {
   "cell_type": "markdown",
   "metadata": {},
   "source": [
    "**Now we have the AUC of our model, it’s helpful to benchmark this against a simpler approach. For example, consider recommending the globally most-played artists to every user. This is not personalized, but is simple and may be effective.**\n",
    "\n",
    "Implement this simple pupolarity-based prediction algorithm, evaluate its AUC score, and compare to the results achieved by the more sophisticated ALS algorithm.\n"
   ]
  },
  {
   "cell_type": "code",
   "execution_count": 48,
   "metadata": {},
   "outputs": [],
   "source": [
    "bListenCount = sc.broadcast(trainData.map(lambda r: (r[1], r[2])).reduceByKey(lambda x,y: x+y).collectAsMap())\n",
    "def predictMostListened(allData):\n",
    "    return allData.map(lambda r: Rating(r[0], r[1], bListenCount.value.get( r[1], 0.0)))\n"
   ]
  },
  {
   "cell_type": "code",
   "execution_count": 49,
   "metadata": {},
   "outputs": [
    {
     "name": "stdout",
     "output_type": "stream",
     "text": [
      "AUC score:0.9360532894377147\n"
     ]
    }
   ],
   "source": [
    "auc = calculateAUC(cvData,bListenCount, predictMostListened)\n",
    "print(\"AUC score:\" + str(auc))\n",
    "\n"
   ]
  },
  {
   "cell_type": "markdown",
   "metadata": {},
   "source": [
    "### 3.6 Personalized recommendations with ALS: Hyperparameters tuning\n",
    "\n",
    "In the previous section, we build our models with some given paramters without any knowledge about them. Actually, choosing the best parameters' values is very important. It can significantly affect the quality of models. Especially, with the current implementation of ALS in MLLIB, these parameters are not learned by the algorithm, and must be chosen by the caller. The following parameters should get consideration before training models:\n",
    "\n",
    "    * rank = 10: the number of latent factors in the model, or equivalently, the number of columns $k$ in the user-feature and product-feature matrices. In non-trivial cases, this is also their rank.\n",
    "\n",
    "    * iterations = 5: the number of iterations that the factorization runs. Instead of runing the algorithm until RMSE converged which actually takes very long time to finish with large datasets, we only let it run in a given number of iterations. More iterations take more time but may produce a better factorization.\n",
    "\n",
    "    * lambda_ = 0.01: a standard overfitting parameter. Higher values resist overfitting, but values that are too high hurt the factorization's accuracy.\n",
    "\n",
    "    * alpha = 1.0: controls the relative weight of observed versus unobserved userproduct interactions in the factorization.\n",
    "\n",
    "Although all of them have impact on the models' quality, iterations is more of a constraint on resources used in the factorization. So, rank, lambda_ and alpha can be considered hyperparameters to the model. We will try to find \"good\" values for them. Indeed, the values of hyperparameter are not necessarily optimal. Choosing good hyperparameter values is a common problem in machine learning. The most basic way to choose values is to simply try combinations of values and evaluate a metric for each of them, and choose the combination that produces the best value of the metric.\n",
    "\n",
    "### Grid Search\n",
    "\n",
    "For simplicity, assume that we want to explore the following parameter space: $ rank \\in \\{10, 50\\}$, $lambda\\_ \\in \\{1.0, 0.0001\\}$ and $alpha \\in \\{1.0, 40.0\\}$.\n",
    "\n",
    "Find the best combination of them in terms of the highest AUC value.\n"
   ]
  },
  {
   "cell_type": "code",
   "execution_count": null,
   "metadata": {},
   "outputs": [
    {
     "name": "stdout",
     "output_type": "stream",
     "text": [
      "Train model with rank=10 lambda_=1.000000 alpha=1.000000\n"
     ]
    }
   ],
   "source": [
    "evaluations = []\n",
    "\n",
    "for rank in [10, 50]:\n",
    "    for lambda_ in [1.0, 0.0001]:\n",
    "        for alpha in [1.0, 40.0]:\n",
    "            print(\"Train model with rank=%d lambda_=%f alpha=%f\" % (rank, lambda_, alpha))\n",
    "            # with each combination of params, we should run multiple times and get avg\n",
    "            # for simple, we only run one time.\n",
    "            model = ALS.trainImplicit(ratings=trainData,rank=rank,iterations=5,lambda_=lambda_ ,alpha=alpha)\n",
    "            auc = calculateAUC(cvData,bListenCount,model.predictAll)\n",
    "\n",
    "            evaluations.append(((rank, lambda_, alpha), auc))\n",
    "\n",
    "            unpersist(model)\n",
    "\n",
    "evaluations.sort(key = lambda x: -x[1])\n",
    "evalDataFrame = pd.DataFrame(data=evaluations)\n",
    "print(evalDataFrame)\n",
    "\n",
    "trainData.unpersist()\n",
    "cvData.unpersist()"
   ]
  },
  {
   "cell_type": "markdown",
   "metadata": {},
   "source": [
    "### The combination of parameters that gets the highest AUC is: rank = 10 ; lambda = 1.0 ; alpha = 40"
   ]
  },
  {
   "cell_type": "markdown",
   "metadata": {},
   "source": [
    "**Using \"optimal\" hyper-parameters obtained, re-train the model and show top-5 artist names recommendated for user 2093760.**"
   ]
  },
  {
   "cell_type": "code",
   "execution_count": null,
   "metadata": {},
   "outputs": [],
   "source": [
    "model = ALS.trainImplicit(ratings = trainData, rank=10, interations=5, lambda_=1.0, alpha=40.0)\n",
    "allData.unpersist()\n",
    "\n",
    "userID=2093760\n",
    "recommendations = model.recommendProducts(userID,5)\n",
    "recArtist = set(rating[1] for rating in recommendations)\n",
    "# Filter in those artists, get just artist, and print\n",
    "\n",
    "def artistNames(line):\n",
    "    if (line[0] in recArtist):\n",
    "        return True\n",
    "    else: \n",
    "        return False\n",
    "recList = artistByID.filter(artistNames).value().collect()\n",
    "print(recList)\n",
    "\n",
    "unpersist(model)\n",
    "\n"
   ]
  },
  {
   "cell_type": "markdown",
   "metadata": {},
   "source": [
    "### It seems that the result of top 5 recommended artists does not change when we add more parameters to the model or modify them (such as lambda, alpha). I think that we should extend to top 50 or top 70 to see how the recommendation changing. Because I think that lambda and alpha parameters affect only when the rating of each artist approximate the mean of total ratings for one user (Top 5 artists have the much larger rating value than others, top 5 artists do not change with modified parameter)\n",
    "### This raises me the question that how strong the impact of those parameters? Is it really nessessary to put into our model when we just need to retrieve a small number of top artists (let's say, less than top 10)?"
   ]
  },
  {
   "cell_type": "markdown",
   "metadata": {},
   "source": [
    "## Additional work"
   ]
  },
  {
   "cell_type": "markdown",
   "metadata": {},
   "source": [
    "## 1/ Changing the proportion of splitting data\n",
    "### In this experiment, I will change the percentage of training data to 50%, 80%, 90% and 99% respectively. The purpose is to observe the changing of AUC score"
   ]
  },
  {
   "cell_type": "code",
   "execution_count": null,
   "metadata": {},
   "outputs": [],
   "source": [
    "trainData, cvData = allData.randomSpilit([0.5,0.5],1)\n",
    "trainData.cache()\n",
    "cvData.cache()\n",
    "\n",
    "t0=time()\n",
    "model = ALS.trainImplicit(ratings=trainData, rank=rank,interations=interations, lambda_=lambda_, alpha=alpha)\n",
    "t1=time()\n",
    "\n",
    "print (\"finish training model in %f seconds\" %(t1-t0))\n",
    "\n",
    "t0= time()\n",
    "auc=caculateAUC(cvData, bAllItemIDs, model.predictAll)\n",
    "t1=time()\n",
    "\n",
    "print(\"auc=\",auc)\n",
    "print(\"finis in %f\" %(t1-t0))\n"
   ]
  },
  {
   "cell_type": "code",
   "execution_count": null,
   "metadata": {},
   "outputs": [],
   "source": [
    "trainData, cvData = allData.randomSplit([0.8,0.2],1)\n",
    "trainData.cache()\n",
    "cvData.cache()\n",
    "\n",
    "t0 = time()\n",
    "model = ALS.trainImplicit(ratings=trainData,rank=rank,iterations=iterations,lambda_=lambda_ ,alpha=alpha)\n",
    "t1 = time()\n",
    "print(\"finish training model in %f secs\" % (t1 - t0))\n",
    "\n",
    "t0 = time()\n",
    "auc = calculateAUC( cvData,bAllItemIDs, model.predictAll)\n",
    "t1 = time()\n",
    "print(\"auc=\",auc)\n",
    "print(\"finish in %f seconds\" % (t1 - t0))"
   ]
  },
  {
   "cell_type": "code",
   "execution_count": null,
   "metadata": {},
   "outputs": [],
   "source": [
    "trainData, cvData = allData.randomSplit([0.9,0.1],1)\n",
    "trainData.cache()\n",
    "cvData.cache()\n",
    "\n",
    "t0 = time()\n",
    "model = ALS.trainImplicit(ratings=trainData,rank=rank,iterations=iterations,lambda_=lambda_ ,alpha=alpha)\n",
    "t1 = time()\n",
    "print(\"finish training model in %f secs\" % (t1 - t0))\n",
    "\n",
    "t0 = time()\n",
    "auc = calculateAUC( cvData,bAllItemIDs, model.predictAll)\n",
    "t1 = time()\n",
    "print(\"auc=\",auc)\n",
    "print(\"finish in %f seconds\" % (t1 - t0))"
   ]
  },
  {
   "cell_type": "code",
   "execution_count": null,
   "metadata": {},
   "outputs": [],
   "source": [
    "trainData, cvData = allData.randomSplit([0.99,0.01],1)\n",
    "trainData.cache()\n",
    "cvData.cache()\n",
    "\n",
    "t0 = time()\n",
    "model = ALS.trainImplicit(ratings=trainData,rank=rank,iterations=iterations,lambda_=lambda_ ,alpha=alpha)\n",
    "t1 = time()\n",
    "print(\"finish training model in %f secs\" % (t1 - t0))\n",
    "\n",
    "t0 = time()\n",
    "auc = calculateAUC( cvData,bAllItemIDs, model.predictAll)\n",
    "t1 = time()\n",
    "print(\"auc=\",auc)\n",
    "print(\"finish in %f seconds\" % (t1 - t0))"
   ]
  },
  {
   "cell_type": "markdown",
   "metadata": {},
   "source": [
    "### As the above results, we have:\n",
    "**training 50% -> AUC: 0.9557431751634355**\n",
    "\n",
    "**training 80% -> AUC: 0.9633452139683835**\n",
    "\n",
    "**training 90% -> AUC: 0.9641551756487843**\n",
    "\n",
    "**training 99% -> AUC: 0.9672845649647493**\n",
    "\n",
    "**This is obviouly that the proportion of splitting data does affect the result of the AUC score. The more training data, the higher AUC score. In my opinion, having higher AUC score does not mean that the model is working well in general. Because high percentage of training data may prone to overfitting.**\n"
   ]
  },
  {
   "cell_type": "markdown",
   "metadata": {},
   "source": [
    "## 2/ Expand the the list of recommended artist"
   ]
  },
  {
   "cell_type": "markdown",
   "metadata": {},
   "source": [
    "### As my hypothesis, in this experiment, instead of retrieving top 5 artist, I try to retrieve top 50 and 70 artist with modified parameters to see the differences the result compare to the model with standard parameters\n",
    "### Model with standard parameters (lambda and alpha are set by default)\n"
   ]
  },
  {
   "cell_type": "code",
   "execution_count": null,
   "metadata": {},
   "outputs": [],
   "source": [
    "trainData, cvData = allData.randomSplit([0.7,0.3],1)\n",
    "trainData.cache()\n",
    "cvData.cache()\n"
   ]
  },
  {
   "cell_type": "code",
   "execution_count": null,
   "metadata": {},
   "outputs": [],
   "source": [
    "model50 = ALS.trainImplicit(ratings=trainData, rank=10, iterations=5)\n",
    "trainData.unpersist()\n",
    "\n",
    "userID = 2093760\n",
    "recommendations50 = model50.recommendProducts(userID,50)\n",
    "\n",
    "recArtist = set(rating[1] for rating in recommendations50)\n",
    "\n",
    "recList50 = artistByID.filter(artistNames).values().collect()\n",
    "\n",
    "print(recList50)\n",
    "\n",
    "unpersist(model)"
   ]
  },
  {
   "cell_type": "markdown",
   "metadata": {},
   "source": [
    "### Model with lamda = 0.0001 , alpha = 40"
   ]
  },
  {
   "cell_type": "code",
   "execution_count": null,
   "metadata": {},
   "outputs": [],
   "source": [
    "model50_1 = ALS.trainImplicit(ratings=trainData, rank=10, iterations=5, lambda_= 0.0001, alpha= 40.0)\n",
    "trainData.unpersist()\n",
    "\n",
    "userID = 2093760\n",
    "recommendations50_1 = model50_1.recommendProducts(userID,50)\n",
    "\n",
    "recArtist = set(rating[1] for rating in recommendations50_1)\n",
    "\n",
    "recList50_1 = artistByID.filter(artistNames).values().collect()\n",
    "\n",
    "print(recList50_1)\n",
    "\n",
    "unpersist(model)"
   ]
  },
  {
   "cell_type": "code",
   "execution_count": null,
   "metadata": {},
   "outputs": [],
   "source": [
    "temp3 = [item for item in recList50 if item not in recList50_1]\n",
    "print(temp3)\n",
    "print(\"\\n Number of different artists between standard model and model_1:\" + str(len(temp3)))\n"
   ]
  },
  {
   "cell_type": "markdown",
   "metadata": {},
   "source": [
    "### Model with lambda = 0.1, alpha = 1.0¶"
   ]
  },
  {
   "cell_type": "code",
   "execution_count": null,
   "metadata": {},
   "outputs": [],
   "source": [
    "model50_2 = ALS.trainImplicit(ratings=trainData, rank=10, iterations=5, lambda_= 0.1, alpha= 1.0)\n",
    "trainData.unpersist()\n",
    "\n",
    "userID = 2093760\n",
    "recommendations50_2 = model50_2.recommendProducts(userID,50)\n",
    "\n",
    "recArtist = set(rating[1] for rating in recommendations50_2)\n",
    "\n",
    "recList50_2 = artistByID.filter(artistNames).values().collect()\n",
    "\n",
    "print(recList50_2)\n",
    "\n",
    "unpersist(model)"
   ]
  },
  {
   "cell_type": "code",
   "execution_count": null,
   "metadata": {},
   "outputs": [],
   "source": [
    "temp4 = [item for item in recList50 if item not in recList50_2]\n",
    "print(temp4)\n",
    "print(\"\\n Number of different artists between standard model and model_2:\" + str(len(temp4)))"
   ]
  },
  {
   "cell_type": "markdown",
   "metadata": {},
   "source": [
    "### Conclusion: As the result has shown above, I dont need to expand the result list to top 70 artists anymore. It is clearly proving my hypothesis is true\n",
    "\n",
    "### How we configure the lambda and alpha makes a huge impact on the retrieved result: In my example, the top artists that highly recommended to user=\"2093760\" is ['50Cent', 'Snoopdog', Notorious B.I.G] (they appear in both standard model and modified models). Others artists may vary from different models.\n",
    "\n",
    "### We may not need to include lambda and alpha to the model if we only retreive the top result less than 10 artists.\n",
    "## Proposed method:\n",
    "\n",
    "### In my opinion: We should cut out outliers (top 5 artists). With this method, recommendation will be more diverse and accurate.\n",
    "\n",
    "## Summary\n",
    "\n",
    "#### In this notebook, we introduce an algorithm to do matrix factorization and the way of using it to make recommendation. Further more, we studied how to build a large-scale recommender system on SPARK using ALS algorithm and evaluate its quality. Finally, a simple approach to choose good parameters is mentioned.\n"
   ]
  },
  {
   "cell_type": "code",
   "execution_count": null,
   "metadata": {},
   "outputs": [],
   "source": []
  },
  {
   "cell_type": "code",
   "execution_count": null,
   "metadata": {},
   "outputs": [],
   "source": []
  },
  {
   "cell_type": "code",
   "execution_count": null,
   "metadata": {},
   "outputs": [],
   "source": []
  }
 ],
 "metadata": {
  "kernelspec": {
   "display_name": "Python 3.6 with Spark",
   "language": "python3",
   "name": "python36"
  }
 },
 "nbformat": 4,
 "nbformat_minor": 1
}
